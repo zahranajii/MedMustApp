{
  "nbformat": 4,
  "nbformat_minor": 0,
  "metadata": {
    "colab": {
      "provenance": [],
      "include_colab_link": true
    },
    "kernelspec": {
      "name": "python3",
      "display_name": "Python 3"
    },
    "language_info": {
      "name": "python"
    }
  },
  "cells": [
    {
      "cell_type": "markdown",
      "metadata": {
        "id": "view-in-github",
        "colab_type": "text"
      },
      "source": [
        "<a href=\"https://colab.research.google.com/github/zahranajii/MedMustApp/blob/main/Untitled.ipynb\" target=\"_parent\"><img src=\"https://colab.research.google.com/assets/colab-badge.svg\" alt=\"Open In Colab\"/></a>"
      ]
    },
    {
      "cell_type": "code",
      "execution_count": null,
      "metadata": {
        "id": "uPMyM9-RzPmz"
      },
      "outputs": [],
      "source": [
        "class Hospital:\n",
        "  def __init__(self, name, list_of_departments):\n",
        "    self.name = name\n",
        "    self.list_of_departments = list_of_departments\n",
        "  def show_departments(self):\n",
        "    for dep in self.list_of_departments:\n",
        "      print(dep.name)\n",
        "\n",
        "  def add_department(self, new_dep_name):\n",
        "    new_dep_instance = Department(new_dep_name, 0)\n",
        "    self.list_of_departments.append(new_dep_instance)\n",
        "\n",
        "\n",
        "  def remove_department (self, old_department):\n",
        "    for dep in self.list_of_departments:\n",
        "      if old_department == dep.name:\n",
        "        self.list_of_departments.remove(dep)\n",
        "\n",
        "\n",
        "  def find_department_by_name(self):\n",
        "    for dep in self.list_of_departments:\n",
        "      print(dep.name)\n",
        "    a= str(input('choose your department:'))\n",
        "    for dep in self.list_of_departments:\n",
        "      if dep.name == a:\n",
        "        return dep"
      ]
    },
    {
      "cell_type": "code",
      "source": [
        "class Department:\n",
        "  def __init__(self,name):\n",
        "    self.name = name\n",
        "    self.reviews =[]\n",
        "\n",
        "  def add_review (self):\n",
        "    stars = int(input('Enter a review from 1.0 to 5.0: \\n'))\n",
        "    text_opinion = str (input('enter your opinion: '))\n",
        "    rev = Review(stars, text_opinion)\n",
        "    self.reviews.append(rev)"
      ],
      "metadata": {
        "id": "WGVg5MuSzivG"
      },
      "execution_count": null,
      "outputs": []
    },
    {
      "cell_type": "code",
      "source": [
        "class Review:\n",
        "  def __init__ (self, stars, text_opinion):\n",
        "    self.stars= stars\n",
        "    self.text_opinion= text_opinion"
      ],
      "metadata": {
        "id": "XcSHAwflz19a"
      },
      "execution_count": null,
      "outputs": []
    },
    {
      "cell_type": "code",
      "source": [
        "d11 = Department('cardio')\n",
        "d12 = Department('pneumo')\n",
        "h1 = Hospital('Charles-Nicoles',[d11,d12])\n",
        "\n",
        "\n",
        "\n",
        "d21 = Department('cardio')\n",
        "d22 = Department('pneumo')\n",
        "h2 = Hospital('Rabta',['cardio','pneumo'])\n"
      ],
      "metadata": {
        "id": "ollf3LAAz1ZX"
      },
      "execution_count": null,
      "outputs": []
    },
    {
      "cell_type": "code",
      "source": [
        "d22.add_review( )"
      ],
      "metadata": {
        "id": "kqroirmN_aXb",
        "outputId": "b4749ec2-488b-4d2e-b6d3-f0936b8951bd",
        "colab": {
          "base_uri": "https://localhost:8080/"
        }
      },
      "execution_count": null,
      "outputs": [
        {
          "name": "stdout",
          "output_type": "stream",
          "text": [
            "Enter a review from 1.0 to 5.0: \n",
            "5\n",
            "enter your opinion: bbbb\n"
          ]
        }
      ]
    },
    {
      "cell_type": "code",
      "source": [
        "d22.reviews[1].text_opinion"
      ],
      "metadata": {
        "id": "Vl4zNPGPDQKF",
        "outputId": "23a9f9a2-cc85-4dfa-83a9-d6124deea1fd",
        "colab": {
          "base_uri": "https://localhost:8080/",
          "height": 36
        }
      },
      "execution_count": null,
      "outputs": [
        {
          "output_type": "execute_result",
          "data": {
            "text/plain": [
              "'bbbb'"
            ],
            "application/vnd.google.colaboratory.intrinsic+json": {
              "type": "string"
            }
          },
          "metadata": {},
          "execution_count": 48
        }
      ]
    },
    {
      "cell_type": "code",
      "source": [
        "r1 = Review(5,'good')\n",
        "\n"
      ],
      "metadata": {
        "id": "VQYNcQos7OYm"
      },
      "execution_count": null,
      "outputs": []
    },
    {
      "cell_type": "code",
      "source": [
        "def AddHospital(self, value):\n",
        "  a=int(input(\"What's the name of the new hospital?\"))\n",
        "  Hospitals.append(a)\n",
        "  return(Hospitals)"
      ],
      "metadata": {
        "id": "1X3SMp8M_bSf"
      },
      "execution_count": null,
      "outputs": []
    },
    {
      "cell_type": "code",
      "source": [
        "#AAAAAAAA\n",
        "print(\"1: Add Review\")\n",
        "print(\"2: View Reviews\")\n",
        "print(\"3: Add a Hospital\")\n",
        "print(\"4: Add Departement\")\n",
        "print(\"5: Exit\")\n",
        "UP = int(input(\"What do you want to do?\\n\"))\n",
        "print(\"======================\")\n",
        "if UP==1 or UP==2:\n",
        "  for element in Hospitals:\n",
        "    print(element)\n",
        "  print(\"======================\")\n",
        "  UP1 = input(\"What's the hospital name?\")\n",
        "elif UP==3:\n",
        "  UP3= input(\"What's the name of the new hospital?\")\n",
        "  if UP3 in Hospitals.values():\n",
        "     print(\"Error: This hospital already exist\")\n",
        "  else:\n",
        "    h=Hospital(UP3,[])\n",
        "    Hospitals[UP3] =h\n",
        "elif UP==4:\n",
        "  UP.add_departement()\n",
        "elif UP==5:\n",
        "  print(\"Good Bye\")\n",
        "#NEw Commit"
      ],
      "metadata": {
        "id": "QfRIGsGHG5f3"
      },
      "execution_count": null,
      "outputs": []
    },
    {
      "cell_type": "code",
      "source": [],
      "metadata": {
        "id": "glJ6gBVNG729"
      },
      "execution_count": null,
      "outputs": []
    }
  ]
}