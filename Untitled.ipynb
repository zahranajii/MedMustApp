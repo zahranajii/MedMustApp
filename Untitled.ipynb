{
  "nbformat": 4,
  "nbformat_minor": 0,
  "metadata": {
    "colab": {
      "provenance": [],
      "include_colab_link": true
    },
    "kernelspec": {
      "name": "python3",
      "display_name": "Python 3"
    },
    "language_info": {
      "name": "python"
    }
  },
  "cells": [
    {
      "cell_type": "markdown",
      "metadata": {
        "id": "view-in-github",
        "colab_type": "text"
      },
      "source": [
        "<a href=\"https://colab.research.google.com/github/zahranajii/MedMustApp/blob/main/Untitled.ipynb\" target=\"_parent\"><img src=\"https://colab.research.google.com/assets/colab-badge.svg\" alt=\"Open In Colab\"/></a>"
      ]
    },
    {
      "cell_type": "code",
      "source": [
        "class Review:\n",
        "  def __init__ (self, stars, text_opinion):\n",
        "    self.stars= stars\n",
        "    self.text_opinion= text_opinion"
      ],
      "metadata": {
        "id": "XcSHAwflz19a"
      },
      "execution_count": null,
      "outputs": []
    },
    {
      "cell_type": "code",
      "source": [
        "class Department:\n",
        "  def __init__(self,name):\n",
        "    self.name = name\n",
        "    self.reviews =[]\n",
        "\n",
        "  def add_review (self):\n",
        "    stars = int(input('Enter a review from 1.0 to 5.0: \\n'))\n",
        "    text_opinion = str (input('enter your opinion: '))\n",
        "    rev = Review(stars, text_opinion)\n",
        "    self.reviews.append(rev)\n",
        "\n",
        "  #def calculate_average(self):\n",
        "    # returns the average of reviews\n",
        "\n",
        "\n",
        "  # def show_reviews(self):\n",
        "    # prints all text_opinion reviews\n",
        "\n",
        "  # def remove_review(self, text):\n",
        "    # text is the text_opinion for a specific review to remove. Example, a review having as text_opinion the value\n",
        "    # 'I hate this department', in order to remove this review (star review + text_opinion), we can simply\n",
        "    #call the fucntion by: def remove_review('I hate this department')"
      ],
      "metadata": {
        "id": "WGVg5MuSzivG"
      },
      "execution_count": null,
      "outputs": []
    },
    {
      "cell_type": "code",
      "execution_count": null,
      "metadata": {
        "id": "uPMyM9-RzPmz"
      },
      "outputs": [],
      "source": [
        "class Hospital:\n",
        "  def __init__(self, name, list_of_departments):\n",
        "    self.name = name\n",
        "    self.list_of_departments = list_of_departments\n",
        "  def show_departments(self):\n",
        "    for dep in self.list_of_departments:\n",
        "      print(dep.name)\n",
        "\n",
        "  def add_department(self, new_dep_name):\n",
        "    new_dep_instance = Department(new_dep_name, 0)\n",
        "    self.list_of_departments.append(new_dep_instance)\n",
        "\n",
        "\n",
        "  def remove_department (self, old_department):\n",
        "    for dep in self.list_of_departments:\n",
        "      if old_department == dep.name:\n",
        "        self.list_of_departments.remove(dep)\n",
        "\n",
        "\n",
        "  def find_department_by_name(self, depName):\n",
        "    for dep in self.list_of_departments:\n",
        "      if dep.name == depName:\n",
        "        return dep"
      ]
    },
    {
      "cell_type": "code",
      "source": [
        "d11 = Department('cardio')\n",
        "d12 = Department('pneumo')\n",
        "h1 = Hospital('Charles-Nicoles',[d11,d12])\n",
        "\n",
        "\n",
        "\n",
        "d21 = Department('cardio')\n",
        "d22 = Department('pneumo')\n",
        "h2 = Hospital('Rabta',[d21,d22])\n"
      ],
      "metadata": {
        "id": "ollf3LAAz1ZX"
      },
      "execution_count": null,
      "outputs": []
    },
    {
      "cell_type": "code",
      "source": [
        "d22.add_review( )"
      ],
      "metadata": {
        "id": "kqroirmN_aXb",
        "outputId": "7759f35f-51c3-4228-bb75-edb6caa2f78b",
        "colab": {
          "base_uri": "https://localhost:8080/"
        }
      },
      "execution_count": null,
      "outputs": [
        {
          "name": "stdout",
          "output_type": "stream",
          "text": [
            "Enter a review from 1.0 to 5.0: \n",
            "1\n",
            "enter your opinion: horrible\n"
          ]
        }
      ]
    },
    {
      "cell_type": "code",
      "source": [
        "Hospitals = {\n",
        "    'Charles_Nicoles' : h1,\n",
        "    'Rabta' : h2,\n",
        "\n",
        "}"
      ],
      "metadata": {
        "id": "-rdrpJ-PlEx5"
      },
      "execution_count": null,
      "outputs": []
    },
    {
      "cell_type": "code",
      "source": [
        "def AddHospital(self, value):\n",
        "  a=int(input(\"What's the name of the new hospital?\"))\n",
        "  Hospitals.append(a)\n",
        "  return(Hospitals)"
      ],
      "metadata": {
        "id": "1X3SMp8M_bSf"
      },
      "execution_count": null,
      "outputs": []
    },
    {
      "cell_type": "code",
      "source": [
        "\n",
        "while True:\n",
        "  print(\"1: Add Review\")\n",
        "  print(\"2: View Reviews\")\n",
        "  print(\"3: Add a Hospital\")\n",
        "  print(\"4: Add Departement\")\n",
        "  print(\"5: Exit\")\n",
        "  UP = int(input(\"What do you want to do?\\n\"))\n",
        "  print(\"======================\")\n",
        "  if UP==1 or UP==2:\n",
        "    print(\"Available hospitals\")\n",
        "    for element in Hospitals:\n",
        "      print(element)\n",
        "      print(\"======================\")\n",
        "    UP1 = input(\"What's the hospital name? \")\n",
        "    for hospitalName in Hospitals.keys():\n",
        "        if hospitalName == UP1:\n",
        "          hospital = Hospitals[hospitalName]\n",
        "          print(\"======================\")\n",
        "          print(\"Available Departments\")\n",
        "          hospital.show_departments()\n",
        "          UP11 = input(\"Select a department: \")\n",
        "          if (UP==1):\n",
        "            hospital.find_department_by_name(UP11).add_review()\n",
        "            print(\"======================\")\n",
        "            print(\"Done! Thanks for your feedback.\")\n",
        "\n",
        "\n",
        "  elif UP==3:\n",
        "        UP3= input(\"What's the name of the new hospital?\")\n",
        "        if UP3 in Hospitals.values():\n",
        "              print(\"Error: This hospital already exist\")\n",
        "        else:\n",
        "          h=Hospital(UP3,[])\n",
        "          Hospitals[UP3] =h\n",
        "          print(\"Hospital added successfully!\")\n",
        "\n",
        "  elif UP==4:\n",
        "        UP.add_departement()\n",
        "  elif UP==5:\n",
        "      print(\"Good Bye\")\n",
        "      break"
      ],
      "metadata": {
        "id": "QfRIGsGHG5f3",
        "colab": {
          "base_uri": "https://localhost:8080/"
        },
        "outputId": "7e0a2d43-e0b7-4b0f-821d-082e89c31453"
      },
      "execution_count": null,
      "outputs": [
        {
          "output_type": "stream",
          "name": "stdout",
          "text": [
            "1: Add Review\n",
            "2: View Reviews\n",
            "3: Add a Hospital\n",
            "4: Add Departement\n",
            "5: Exit\n",
            "What do you want to do?\n",
            "1\n",
            "======================\n",
            "Available hospitals\n",
            "Charles_Nicoles\n",
            "======================\n",
            "Rabta\n",
            "======================\n",
            "What's the hospital name? Rabta\n",
            "======================\n",
            "Available Departments\n",
            "cardio\n",
            "pneumo\n",
            "Select a department: pneumo\n",
            "Enter a review from 1.0 to 5.0: \n",
            "3\n",
            "enter your opinion: grge\n",
            "======================\n",
            "Done! Thanks for your feedback.\n",
            "1: Add Review\n",
            "2: View Reviews\n",
            "3: Add a Hospital\n",
            "4: Add Departement\n",
            "5: Exit\n"
          ]
        }
      ]
    },
    {
      "cell_type": "code",
      "source": [
        "d22.calculate_average()"
      ],
      "metadata": {
        "id": "glJ6gBVNG729",
        "colab": {
          "base_uri": "https://localhost:8080/"
        },
        "outputId": "e035332f-b75e-4111-cbb0-2ca3ae9c38a6"
      },
      "execution_count": null,
      "outputs": [
        {
          "output_type": "execute_result",
          "data": {
            "text/plain": [
              "5.0"
            ]
          },
          "metadata": {},
          "execution_count": 61
        }
      ]
    },
    {
      "cell_type": "code",
      "source": [
        "d22.show_reviews()"
      ],
      "metadata": {
        "colab": {
          "base_uri": "https://localhost:8080/"
        },
        "id": "WOsi2mjO9gvJ",
        "outputId": "c3d15015-51b2-4bdf-c446-ac751a02df12"
      },
      "execution_count": null,
      "outputs": [
        {
          "output_type": "stream",
          "name": "stdout",
          "text": [
            "very good!\n"
          ]
        }
      ]
    },
    {
      "cell_type": "code",
      "source": [
        "d22.remove_review('average')"
      ],
      "metadata": {
        "id": "oFoivN-h90dF"
      },
      "execution_count": null,
      "outputs": []
    },
    {
      "cell_type": "code",
      "source": [],
      "metadata": {
        "id": "cS5_cWrwBmA-"
      },
      "execution_count": null,
      "outputs": []
    }
  ]
}